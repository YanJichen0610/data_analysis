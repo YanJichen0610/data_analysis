{
 "cells": [
  {
   "cell_type": "code",
   "execution_count": 2,
   "id": "4e4a65c4",
   "metadata": {},
   "outputs": [],
   "source": [
    "import numpy as np"
   ]
  },
  {
   "cell_type": "code",
   "execution_count": 3,
   "id": "b9ba1c14",
   "metadata": {},
   "outputs": [
    {
     "name": "stdout",
     "output_type": "stream",
     "text": [
      "2.2.6\n"
     ]
    }
   ],
   "source": [
    "# 打印numpy库的版本\n",
    "print(np.__version__)"
   ]
  },
  {
   "cell_type": "code",
   "execution_count": 4,
   "id": "d96fb870",
   "metadata": {},
   "outputs": [
    {
     "name": "stdout",
     "output_type": "stream",
     "text": [
      "[[0. 0. 0. 0.]\n",
      " [0. 0. 0. 0.]\n",
      " [0. 0. 0. 0.]\n",
      " [0. 0. 0. 0.]]\n"
     ]
    }
   ],
   "source": [
    "# 构造全零矩阵,并打印\n",
    "z = np.zeros([4,4])\n",
    "print(z)"
   ]
  },
  {
   "cell_type": "code",
   "execution_count": 5,
   "id": "f54ef52a",
   "metadata": {},
   "outputs": [
    {
     "name": "stdout",
     "output_type": "stream",
     "text": [
      "[49 48 47 46 45 44 43 42 41 40 39 38 37 36 35 34 33 32 31 30 29 28 27 26\n",
      " 25 24 23 22 21 20 19 18 17 16 15 14 13 12 11 10]\n"
     ]
    }
   ],
   "source": [
    "# 创建一个10-49的数组，并且倒叙排序\n",
    "z = np.arange(10,50,1)\n",
    "z = z[::-1]\n",
    "print(z)"
   ]
  },
  {
   "cell_type": "code",
   "execution_count": 6,
   "id": "0d13d298",
   "metadata": {},
   "outputs": [
    {
     "name": "stdout",
     "output_type": "stream",
     "text": [
      "(array([ 0,  1,  2,  3,  4,  5,  6,  7,  8,  9, 10, 11, 12, 13, 14, 15, 16,\n",
      "       17, 18, 19, 20, 21, 22, 23, 24, 25, 26, 27, 28, 29, 30, 31, 32, 33,\n",
      "       34, 35, 36, 37, 38, 39]),)\n"
     ]
    }
   ],
   "source": [
    "# 找到一个数组中不为零0的索引\n",
    "print(np.nonzero(z))"
   ]
  },
  {
   "cell_type": "code",
   "execution_count": 7,
   "id": "b97f8ffa",
   "metadata": {},
   "outputs": [
    {
     "name": "stdout",
     "output_type": "stream",
     "text": [
      "0.05727267802767899\n",
      "0.9470363399645856\n"
     ]
    }
   ],
   "source": [
    "# 随即构造一个3*3的矩阵\n",
    "z = np.random.random([3,3])\n",
    "print(z.min())\n",
    "print(z.max())"
   ]
  },
  {
   "cell_type": "code",
   "execution_count": 8,
   "id": "5bc8273e",
   "metadata": {},
   "outputs": [
    {
     "name": "stdout",
     "output_type": "stream",
     "text": [
      "[[0. 0. 0. 0. 0. 0. 0.]\n",
      " [0. 1. 1. 1. 1. 1. 0.]\n",
      " [0. 1. 1. 1. 1. 1. 0.]\n",
      " [0. 1. 1. 1. 1. 1. 0.]\n",
      " [0. 1. 1. 1. 1. 1. 0.]\n",
      " [0. 1. 1. 1. 1. 1. 0.]\n",
      " [0. 0. 0. 0. 0. 0. 0.]]\n"
     ]
    }
   ],
   "source": [
    "# 构造一个5*5矩阵，令其内部值为1，最外部值为0\n",
    "z = np.ones((5,5))\n",
    "z = np.pad(z, pad_width = 1, constant_values = 0, mode = \"constant\")\n",
    "print(z)"
   ]
  },
  {
   "cell_type": "code",
   "execution_count": 9,
   "id": "d453ec69",
   "metadata": {},
   "outputs": [
    {
     "name": "stdout",
     "output_type": "stream",
     "text": [
      "0.1818319557072846\n"
     ]
    }
   ],
   "source": [
    "# 构建一个shape为（6，7，8）的矩阵，并找到第100个的元素的索引值\n",
    "z = np.random.random([6,7,8])\n",
    "print(z[np.unravel_index(100,(6,7,8))])"
   ]
  },
  {
   "cell_type": "code",
   "execution_count": 10,
   "id": "b030cec4",
   "metadata": {},
   "outputs": [
    {
     "name": "stdout",
     "output_type": "stream",
     "text": [
      "[[0.51824944 0.87558034 0.17538391 0.6630944  0.67282231]\n",
      " [0.9800482  0.53800184 0.22104617 0.08677504 1.        ]\n",
      " [0.02675895 0.57686031 0.41438499 0.0945338  0.48096557]\n",
      " [0.22043859 0.80802219 0.23191255 0.08648615 0.27941664]\n",
      " [0.97876172 0.         0.03138794 0.09827135 0.89516582]]\n"
     ]
    }
   ],
   "source": [
    "# 对一个5*5矩阵进行归一化操作 归一化 (当前值 - 最小值) / (最大值 - 最小值)\n",
    "z = np.random.random([5, 5])\n",
    "z_max = z.max()\n",
    "z_min = z.min()\n",
    "z = (z - z_min) / (z_max - z_min)\n",
    "print(z)"
   ]
  },
  {
   "cell_type": "code",
   "execution_count": null,
   "id": "bcf7618d",
   "metadata": {},
   "outputs": [
    {
     "name": "stdout",
     "output_type": "stream",
     "text": [
      "z1:[1 0 4 2 1 6 6 1 6 0 8 0 1 7 2 5 0 3 0 0]\n",
      "z1:[1 0 4 2 1 6 6 1 6 0 8 0 1 7 2 5 0 3 0 0]\n",
      "same value:[0 1 2 3 4 5 7 8]\n"
     ]
    }
   ],
   "source": [
    "z1 = np.random.randint(0,10,20)\n",
    "z2 = np.random.randint(0,10,20)\n",
    "print('z1:' + str(z1))\n",
    "print('z2:' + str(z2))\n",
    "print('same value:' + str(np.intersect1d(z1, z2)))"
   ]
  },
  {
   "cell_type": "code",
   "execution_count": 12,
   "id": "5ce5a8f7",
   "metadata": {},
   "outputs": [
    {
     "name": "stdout",
     "output_type": "stream",
     "text": [
      "[0.53118437 1.45579382 0.94279378 1.79651032 9.03529714 2.39729493\n",
      " 2.61316241 7.28316279 3.49579051 9.43021402]\n",
      "[0. 1. 0. 1. 9. 2. 2. 7. 3. 9.]\n"
     ]
    }
   ],
   "source": [
    "# 得到一个数的整数部分\n",
    "z = np.random.uniform(0, 10, 10)\n",
    "print(z)\n",
    "print(np.floor(z))"
   ]
  },
  {
   "cell_type": "code",
   "execution_count": null,
   "id": "432f5ab1",
   "metadata": {},
   "outputs": [],
   "source": [
    "# 打印数据的部分值\n",
    "z = np.random.randint(0,10,100)"
   ]
  }
 ],
 "metadata": {
  "kernelspec": {
   "display_name": "didi_lab",
   "language": "python",
   "name": "python3"
  },
  "language_info": {
   "codemirror_mode": {
    "name": "ipython",
    "version": 3
   },
   "file_extension": ".py",
   "mimetype": "text/x-python",
   "name": "python",
   "nbconvert_exporter": "python",
   "pygments_lexer": "ipython3",
   "version": "3.10.18"
  }
 },
 "nbformat": 4,
 "nbformat_minor": 5
}
